{
 "cells": [
  {
   "cell_type": "code",
   "execution_count": 31,
   "id": "bac511d0",
   "metadata": {},
   "outputs": [
    {
     "name": "stdout",
     "output_type": "stream",
     "text": [
      "The autoreload extension is already loaded. To reload it, use:\n",
      "  %reload_ext autoreload\n"
     ]
    }
   ],
   "source": [
    "%load_ext autoreload\n",
    "%autoreload 2"
   ]
  },
  {
   "cell_type": "code",
   "execution_count": null,
   "id": "b2db4e07",
   "metadata": {},
   "outputs": [],
   "source": [
    "from config import MINIO_BUCKET_RAW, MINIO_BUCKET_PROCESSED\n",
    "from etl.transformer import transform_html_to_tables, transform_tables\n",
    "from etl.writer import write_to_parquet, write_to_postgres\n",
    "from etl.reader import read_htmls_from_minio, read_from_parquet, read_from_postgres\n",
    "from clients.postgres_client import get_postgres_properties\n",
    "from clients.spark_client import create_spark_session\n",
    "from logger import get_logger\n",
    "import pyspark.sql.functions as F\n",
    "\n",
    "\n"
   ]
  },
  {
   "cell_type": "code",
   "execution_count": null,
   "id": "288a291a",
   "metadata": {},
   "outputs": [
    {
     "name": "stderr",
     "output_type": "stream",
     "text": [
      "2025-05-04 15:27:24,724 - INFO - VRNFSO_ETL - Starting ETL job\n"
     ]
    }
   ],
   "source": [
    "spark = create_spark_session()\n",
    "postgres_props = get_postgres_properties()\n",
    "\n"
   ]
  },
  {
   "cell_type": "code",
   "execution_count": null,
   "id": "fadbf275",
   "metadata": {},
   "outputs": [
    {
     "name": "stderr",
     "output_type": "stream",
     "text": [
      "2025-05-04 15:27:33,126 - INFO - VRNFSO_ETL - Читаем HTML из MinIO\n",
      "2025-05-04 15:27:33,459 - INFO - VRNFSO_ETL - Парсим HTML в DataFrame\n"
     ]
    }
   ],
   "source": [
    "html_pairs = read_htmls_from_minio(MINIO_BUCKET_RAW)\n",
    "\n",
    "events_df, distances_df, results_df = transform_html_to_tables(html_pairs, spark)"
   ]
  },
  {
   "cell_type": "code",
   "execution_count": null,
   "id": "3e4f2035",
   "metadata": {},
   "outputs": [
    {
     "name": "stderr",
     "output_type": "stream",
     "text": [
      "25/05/02 21:31:37 WARN MetricsConfig: Cannot locate configuration: tried hadoop-metrics2-s3a-file-system.properties,hadoop-metrics2.properties\n",
      "25/05/02 21:32:01 WARN DAGScheduler: Broadcasting large task binary with size 1004.1 KiB\n",
      "25/05/02 21:32:02 WARN MemoryManager: Total allocation exceeds 95.00% (1,020,054,720 bytes) of heap memory\n",
      "Scaling row group sizes to 95.00% for 8 writers\n",
      "25/05/02 21:32:39 WARN MemoryManager: Total allocation exceeds 95.00% (1,020,054,720 bytes) of heap memory\n",
      "Scaling row group sizes to 95.00% for 8 writers\n",
      "                                                                                \r"
     ]
    }
   ],
   "source": [
    "\n",
    "write_to_parquet(events_df, f\"s3a://{MINIO_BUCKET_PROCESSED}/events/\")\n",
    "write_to_parquet(distances_df, f\"s3a://{MINIO_BUCKET_PROCESSED}/distances/\")\n",
    "write_to_parquet(results_df, f\"s3a://{MINIO_BUCKET_PROCESSED}/results/\")"
   ]
  },
  {
   "cell_type": "code",
   "execution_count": null,
   "id": "49897c4f",
   "metadata": {},
   "outputs": [
    {
     "name": "stderr",
     "output_type": "stream",
     "text": [
      "25/05/04 11:56:06 WARN MetricsConfig: Cannot locate configuration: tried hadoop-metrics2-s3a-file-system.properties,hadoop-metrics2.properties\n",
      "                                                                                \r"
     ]
    }
   ],
   "source": [
    "logger.info(\"Считываем из Parquet\")\n",
    "read_events_df = read_from_parquet(spark, f\"s3a://{MINIO_BUCKET_PROCESSED}/events/\")\n",
    "read_distances_df = read_from_parquet(spark, f\"s3a://{MINIO_BUCKET_PROCESSED}/distances/\")\n",
    "read_results_df = read_from_parquet(spark, f\"s3a://{MINIO_BUCKET_PROCESSED}/results/\")"
   ]
  },
  {
   "cell_type": "code",
   "execution_count": null,
   "id": "3d090360",
   "metadata": {},
   "outputs": [],
   "source": [
    "transformed_events, transformed_groups, transformed_participants, transformed_results = transform_tables(read_events_df, read_distances_df, read_results_df)"
   ]
  },
  {
   "cell_type": "code",
   "execution_count": 10,
   "id": "202fb618",
   "metadata": {},
   "outputs": [
    {
     "name": "stderr",
     "output_type": "stream",
     "text": [
      "25/05/04 11:59:06 WARN MemoryManager: Total allocation exceeds 95.00% (1,020,054,720 bytes) of heap memory\n",
      "Scaling row group sizes to 95.00% for 8 writers\n",
      "                                                                                \r"
     ]
    }
   ],
   "source": [
    "write_to_parquet(transformed_events, f\"s3a://{MINIO_BUCKET_PROCESSED}/transformed_events/\")\n",
    "write_to_parquet(transformed_groups, f\"s3a://{MINIO_BUCKET_PROCESSED}/transformed_groups/\")\n",
    "write_to_parquet(transformed_participants, f\"s3a://{MINIO_BUCKET_PROCESSED}/transformed_participants/\")\n",
    "write_to_parquet(transformed_results, f\"s3a://{MINIO_BUCKET_PROCESSED}/transformed_results/\")"
   ]
  },
  {
   "cell_type": "code",
   "execution_count": 39,
   "id": "3947e33f",
   "metadata": {},
   "outputs": [],
   "source": [
    "read_transformed_events = read_from_parquet(spark, f\"s3a://{MINIO_BUCKET_PROCESSED}/transformed_events/\")\n",
    "read_transformed_groups = read_from_parquet(spark, f\"s3a://{MINIO_BUCKET_PROCESSED}/transformed_groups/\")\n",
    "read_transformed_participants = read_from_parquet(spark, f\"s3a://{MINIO_BUCKET_PROCESSED}/transformed_participants/\")\n",
    "read_transformed_results = read_from_parquet(spark, f\"s3a://{MINIO_BUCKET_PROCESSED}/transformed_results/\")"
   ]
  },
  {
   "cell_type": "code",
   "execution_count": 15,
   "id": "d8f8f227",
   "metadata": {},
   "outputs": [],
   "source": [
    "write_to_postgres(read_transformed_events, \"events\", postgres_props)\n"
   ]
  },
  {
   "cell_type": "code",
   "execution_count": 40,
   "id": "c7c8e6fb",
   "metadata": {},
   "outputs": [],
   "source": [
    "events_lookup = read_from_postgres(spark, \"events\", postgres_props).select(\"event_id\", \"event_date\")\n"
   ]
  },
  {
   "cell_type": "code",
   "execution_count": 41,
   "id": "2ddf9319",
   "metadata": {},
   "outputs": [],
   "source": [
    "read_transformed_groups = read_transformed_groups.join(\n",
    "    events_lookup,\n",
    "    on=\"event_date\",\n",
    "    how=\"inner\"\n",
    ").select(\"group_name\", \"cp\", \"length_km\", \"event_id\")"
   ]
  },
  {
   "cell_type": "code",
   "execution_count": 43,
   "id": "af8a24ab",
   "metadata": {},
   "outputs": [
    {
     "name": "stdout",
     "output_type": "stream",
     "text": [
      "+----------+---+---------+--------+\n",
      "|group_name| cp|length_km|event_id|\n",
      "+----------+---+---------+--------+\n",
      "|   Женщины|  8|      4.1|       1|\n",
      "|   Мужчины| 10|      5.4|       1|\n",
      "|       Ж16| 16|      2.3|       3|\n",
      "|       М18| 17|      2.9|       3|\n",
      "|       Ж55| 16|      2.3|       3|\n",
      "|       Ж12|  8|      1.3|       3|\n",
      "|       М35| 17|      2.9|       3|\n",
      "|       М55| 14|      2.2|       3|\n",
      "|       М12| 10|      1.5|       3|\n",
      "|   Новички|  9|      1.1|       3|\n",
      "|       Ж35| 15|      2.4|       3|\n",
      "|       Ж14|  9|      1.4|       3|\n",
      "|        ЖЭ| 17|      2.9|       3|\n",
      "|       Ж18| 15|      2.4|       3|\n",
      "|       Ж10|  8|      1.3|       3|\n",
      "|       М14|  9|      1.6|       3|\n",
      "|       М16| 14|      2.2|       3|\n",
      "|       М10|  8|      1.3|       3|\n",
      "|        МЭ| 17|      3.2|       3|\n",
      "|        ЖЭ| 13|      2.4|       4|\n",
      "+----------+---+---------+--------+\n",
      "only showing top 20 rows\n",
      "\n"
     ]
    }
   ],
   "source": [
    "read_transformed_groups.show()"
   ]
  },
  {
   "cell_type": "code",
   "execution_count": 19,
   "id": "7ef26e62",
   "metadata": {},
   "outputs": [],
   "source": [
    "write_to_postgres(read_transformed_groups, \"group_params\", postgres_props)\n"
   ]
  },
  {
   "cell_type": "code",
   "execution_count": 44,
   "id": "beffe521",
   "metadata": {},
   "outputs": [],
   "source": [
    "groups_lookup = read_from_postgres(spark, \"group_params\", postgres_props).select(\"group_id\", \"event_id\", \"group_name\")"
   ]
  },
  {
   "cell_type": "code",
   "execution_count": null,
   "id": "e4d419d2",
   "metadata": {},
   "outputs": [],
   "source": [
    "read_transformed_participants = read_transformed_participants.groupBy(\"full_name\", \"birth_year\").agg(F.collect_set(\"team\").alias(\"team\"))"
   ]
  },
  {
   "cell_type": "code",
   "execution_count": 52,
   "id": "56bb5508",
   "metadata": {},
   "outputs": [],
   "source": [
    "write_to_postgres(read_transformed_participants, \"participants\", postgres_props)\n"
   ]
  },
  {
   "cell_type": "code",
   "execution_count": 53,
   "id": "baa64cb9",
   "metadata": {},
   "outputs": [],
   "source": [
    "participants_lookup = read_from_postgres(spark, \"participants\", postgres_props).select(\"participant_id\", \"full_name\", \"team\", \"birth_year\")"
   ]
  },
  {
   "cell_type": "code",
   "execution_count": 54,
   "id": "c201c7e5",
   "metadata": {},
   "outputs": [
    {
     "name": "stdout",
     "output_type": "stream",
     "text": [
      "+----------+----------+---------------+-----------------+-------------------+-------------+----------+----------+---------------+-----------+--------+\n",
      "|event_date|group_name|position_number|        full_name|               team|qualification|bib_number|birth_year|finish_position|result_time|time_gap|\n",
      "+----------+----------+---------------+-----------------+-------------------+-------------+----------+----------+---------------+-----------+--------+\n",
      "|2024-05-18|      М-21|             24|    Ершов Дмитрий|СШОР 18 Вильденберг|            I|      1238|      2005|             24|   00:45:36|  +11:34|\n",
      "|2024-05-18|      М-21|             25|   Пономарёв Иван|        Жидкий Хлеб|           МС|      1185|      1996|             25|   00:45:50|  +11:48|\n",
      "|2024-05-18|      М-21|             26|   Бунегин Кирилл|      СШ 18 ИМПУЛЬС|          КМС|      1224|      2004|             26|   00:46:47|  +12:45|\n",
      "|2024-05-18|      М-21|             27|     Фролов Роман|      СШОР 18 Олимп|            I|      1252|      2002|             27|   00:49:41|  +15:39|\n",
      "|2024-05-18|      М-21|             28|     Бунегин Илья|      СШ 18 ИМПУЛЬС|          КМС|      1223|      2004|             28|   00:51:03|  +17:01|\n",
      "|2024-05-18|      М-21|             29| Новиков Валентин|         В.Новгород|          ЗМС|       531|      1974|             29|   00:51:29|  +17:27|\n",
      "|2024-05-18|      М-21|             30|   Шевяков Виктор|         Г. Ангарск|         NULL|      1273|      1998|             30|   00:51:51|  +17:49|\n",
      "|2024-05-18|      М-21|             31|  Янишевский Илья|   СШОР 18 Богданка|            I|      1237|      2004|             31|   00:52:26|  +18:24|\n",
      "|2024-05-18|      М-21|             32|     Карфик Данил|        Жидкий Хлеб|           II|      1183|      2002|             32|   00:52:52|  +18:50|\n",
      "|2024-05-18|      М-21|             33|    Кораблин Егор|    СШОР 18 Торнадо|            I|      1259|      2005|             33|   00:54:44|  +20:42|\n",
      "|2024-05-18|      М-21|             34|Косаковский Тимур|    СШОР 18 Торнадо|          КМС|      1260|      2000|             34|   00:55:51|  +21:49|\n",
      "|2024-05-18|      М-21|             35|     Тузиков Иван|СШОР 18 Вильденберг|          КМС|      1239|      2004|             35|   00:56:45|  +22:43|\n",
      "|2024-05-18|      М-21|             36|  Чужиков Евгений|      СШОР 18 Олимп|            I|      1253|      1995|             36|   00:56:54|  +22:52|\n",
      "|2024-05-18|      М-21|             37|   Атерлей Сергей|      СШОР 18 Олимп|            I|      1246|      1994|             37|   00:56:55|  +22:53|\n",
      "|2024-05-18|      М-21|             38|     Гречкин Яков|       ВУНЦ ВВС ВВА|            I|      1196|      2003|             38|   00:57:04|  +23:02|\n",
      "|2024-05-18|      М-21|             39|    Гийденко Олег|       ВУНЦ ВВС ВВА|           II|      1194|      2005|             39|   01:02:50|  +28:48|\n",
      "|2024-05-18|      М-21|             40|  Сорокин Серафим|        Жидкий Хлеб|          КМС|      1186|      2003|             40|   01:03:48|  +29:46|\n",
      "|2024-05-18|      М-21|             41|      Шаров Артём|      СШ №18 Азимут|            I|      1229|      1992|             41|   01:06:45|  +32:43|\n",
      "|2024-05-18|      М-21|             42|  Спажакин Михаил|      СШОР 18 Олимп|            I|      1251|      1992|             42|   01:10:24|  +36:22|\n",
      "|2024-05-18|      М-21|             43| Пасморнов Максим|СШОР 18 Берёзовая р|          КМС|      1233|      2002|             43|   01:11:48|  +37:46|\n",
      "+----------+----------+---------------+-----------------+-------------------+-------------+----------+----------+---------------+-----------+--------+\n",
      "only showing top 20 rows\n",
      "\n"
     ]
    }
   ],
   "source": [
    "read_transformed_results.show()"
   ]
  },
  {
   "cell_type": "code",
   "execution_count": 56,
   "id": "074ad677",
   "metadata": {},
   "outputs": [],
   "source": [
    "read_transformed_results = read_transformed_results \\\n",
    "    .join(events_lookup, on=\"event_date\", how=\"inner\") \\\n",
    "    .join(groups_lookup, on=[\"event_id\",\"group_name\"], how=\"inner\") \\\n",
    "    .join(participants_lookup, on=[\"full_name\",\"birth_year\"], how=\"inner\") \\\n",
    "    .select(\n",
    "        \"event_id\",\n",
    "        \"group_id\",\n",
    "        \"participant_id\",\n",
    "        \"position_number\",\n",
    "        \"qualification\",\n",
    "        \"bib_number\",\n",
    "        \"finish_position\",\n",
    "        \"result_time\",\n",
    "        \"time_gap\"\n",
    "    )"
   ]
  },
  {
   "cell_type": "code",
   "execution_count": 57,
   "id": "b5334388",
   "metadata": {},
   "outputs": [
    {
     "name": "stderr",
     "output_type": "stream",
     "text": [
      "                                                                                \r"
     ]
    }
   ],
   "source": [
    "write_to_postgres(read_transformed_results, \"results\", postgres_props)"
   ]
  }
 ],
 "metadata": {
  "kernelspec": {
   "display_name": "Python 3 (ipykernel)",
   "language": "python",
   "name": "python3"
  },
  "language_info": {
   "codemirror_mode": {
    "name": "ipython",
    "version": 3
   },
   "file_extension": ".py",
   "mimetype": "text/x-python",
   "name": "python",
   "nbconvert_exporter": "python",
   "pygments_lexer": "ipython3",
   "version": "3.10.12"
  }
 },
 "nbformat": 4,
 "nbformat_minor": 5
}
