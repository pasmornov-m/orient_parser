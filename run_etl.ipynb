{
 "cells": [
  {
   "cell_type": "code",
   "execution_count": null,
   "id": "b2db4e07",
   "metadata": {},
   "outputs": [],
   "source": [
    "from config import MINIO_BUCKET_RAW, MINIO_BUCKET_PROCESSED\n",
    "from etl.stages import stage1, stage2, stage3\n",
    "from clients.postgres_client import get_postgres_properties\n",
    "from clients.spark_client import create_spark_session\n"
   ]
  },
  {
   "cell_type": "code",
   "execution_count": null,
   "id": "288a291a",
   "metadata": {},
   "outputs": [],
   "source": [
    "spark = create_spark_session()\n",
    "postgres_props = get_postgres_properties()"
   ]
  },
  {
   "cell_type": "code",
   "execution_count": 63,
   "id": "77ee1e4c",
   "metadata": {},
   "outputs": [
    {
     "name": "stderr",
     "output_type": "stream",
     "text": [
      "25/05/04 19:05:26 WARN DAGScheduler: Broadcasting large task binary with size 1004.5 KiB\n",
      "                                                                                \r"
     ]
    }
   ],
   "source": [
    "raw_paths = stage1(spark, MINIO_BUCKET_RAW, MINIO_BUCKET_PROCESSED)"
   ]
  },
  {
   "cell_type": "code",
   "execution_count": 64,
   "id": "d5b6e82a",
   "metadata": {},
   "outputs": [
    {
     "name": "stderr",
     "output_type": "stream",
     "text": [
      "25/05/04 19:10:05 WARN MemoryManager: Total allocation exceeds 95.00% (1,020,054,720 bytes) of heap memory\n",
      "Scaling row group sizes to 95.00% for 8 writers\n",
      "                                                                                \r"
     ]
    }
   ],
   "source": [
    "processed_dfs = stage2(spark, raw_paths, MINIO_BUCKET_PROCESSED)"
   ]
  },
  {
   "cell_type": "code",
   "execution_count": 67,
   "id": "66216a84",
   "metadata": {},
   "outputs": [
    {
     "name": "stderr",
     "output_type": "stream",
     "text": [
      "                                                                                \r"
     ]
    }
   ],
   "source": [
    "stage3(spark, processed_dfs, postgres_props)"
   ]
  }
 ],
 "metadata": {
  "kernelspec": {
   "display_name": "Python 3 (ipykernel)",
   "language": "python",
   "name": "python3"
  },
  "language_info": {
   "codemirror_mode": {
    "name": "ipython",
    "version": 3
   },
   "file_extension": ".py",
   "mimetype": "text/x-python",
   "name": "python",
   "nbconvert_exporter": "python",
   "pygments_lexer": "ipython3",
   "version": "3.10.12"
  }
 },
 "nbformat": 4,
 "nbformat_minor": 5
}
