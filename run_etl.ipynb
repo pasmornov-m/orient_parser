{
 "cells": [
  {
   "cell_type": "code",
   "execution_count": 1,
   "id": "b2db4e07",
   "metadata": {},
   "outputs": [],
   "source": [
    "from config import MINIO_BUCKET_RAW, MINIO_BUCKET_PROCESSED\n",
    "from etl.stages import stage1, stage2, stage3\n",
    "from clients.postgres_client import get_postgres_properties\n",
    "from clients.spark_client import create_spark_session\n"
   ]
  },
  {
   "cell_type": "code",
   "execution_count": 2,
   "id": "288a291a",
   "metadata": {},
   "outputs": [
    {
     "name": "stderr",
     "output_type": "stream",
     "text": [
      "25/05/06 10:55:07 WARN Utils: Your hostname, maxp-VirtualBox resolves to a loopback address: 127.0.1.1; using 10.0.2.15 instead (on interface enp0s3)\n",
      "25/05/06 10:55:07 WARN Utils: Set SPARK_LOCAL_IP if you need to bind to another address\n"
     ]
    },
    {
     "name": "stdout",
     "output_type": "stream",
     "text": [
      ":: loading settings :: url = jar:file:/home/maxp/Work/spark-3.5.5-bin-hadoop3/jars/ivy-2.5.1.jar!/org/apache/ivy/core/settings/ivysettings.xml\n"
     ]
    },
    {
     "name": "stderr",
     "output_type": "stream",
     "text": [
      "Ivy Default Cache set to: /home/maxp/.ivy2/cache\n",
      "The jars for the packages stored in: /home/maxp/.ivy2/jars\n",
      "org.apache.hadoop#hadoop-aws added as a dependency\n",
      "org.postgresql#postgresql added as a dependency\n",
      ":: resolving dependencies :: org.apache.spark#spark-submit-parent-fde51e09-02ab-4226-95f2-4212f25f9086;1.0\n",
      "\tconfs: [default]\n",
      "\tfound org.apache.hadoop#hadoop-aws;3.3.4 in central\n",
      "\tfound com.amazonaws#aws-java-sdk-bundle;1.12.262 in central\n",
      "\tfound org.wildfly.openssl#wildfly-openssl;1.0.7.Final in central\n",
      "\tfound org.postgresql#postgresql;42.7.5 in central\n",
      "\tfound org.checkerframework#checker-qual;3.48.3 in central\n",
      ":: resolution report :: resolve 816ms :: artifacts dl 36ms\n",
      "\t:: modules in use:\n",
      "\tcom.amazonaws#aws-java-sdk-bundle;1.12.262 from central in [default]\n",
      "\torg.apache.hadoop#hadoop-aws;3.3.4 from central in [default]\n",
      "\torg.checkerframework#checker-qual;3.48.3 from central in [default]\n",
      "\torg.postgresql#postgresql;42.7.5 from central in [default]\n",
      "\torg.wildfly.openssl#wildfly-openssl;1.0.7.Final from central in [default]\n",
      "\t---------------------------------------------------------------------\n",
      "\t|                  |            modules            ||   artifacts   |\n",
      "\t|       conf       | number| search|dwnlded|evicted|| number|dwnlded|\n",
      "\t---------------------------------------------------------------------\n",
      "\t|      default     |   5   |   0   |   0   |   0   ||   5   |   0   |\n",
      "\t---------------------------------------------------------------------\n",
      ":: retrieving :: org.apache.spark#spark-submit-parent-fde51e09-02ab-4226-95f2-4212f25f9086\n",
      "\tconfs: [default]\n",
      "\t0 artifacts copied, 5 already retrieved (0kB/33ms)\n",
      "25/05/06 10:55:09 WARN NativeCodeLoader: Unable to load native-hadoop library for your platform... using builtin-java classes where applicable\n",
      "Setting default log level to \"WARN\".\n",
      "To adjust logging level use sc.setLogLevel(newLevel). For SparkR, use setLogLevel(newLevel).\n"
     ]
    }
   ],
   "source": [
    "spark = create_spark_session()\n",
    "postgres_props = get_postgres_properties()"
   ]
  },
  {
   "cell_type": "markdown",
   "id": "04125976",
   "metadata": {},
   "source": [
    "stage1: Преобразование html страниц в промежуточные таблицы events, distances, results и сохранение этих таблиц в minio"
   ]
  },
  {
   "cell_type": "code",
   "execution_count": 3,
   "id": "77ee1e4c",
   "metadata": {},
   "outputs": [
    {
     "name": "stderr",
     "output_type": "stream",
     "text": [
      "25/05/06 10:56:29 WARN MetricsConfig: Cannot locate configuration: tried hadoop-metrics2-s3a-file-system.properties,hadoop-metrics2.properties\n",
      "25/05/06 10:57:16 WARN DAGScheduler: Broadcasting large task binary with size 1004.5 KiB\n",
      "25/05/06 10:57:19 WARN MemoryManager: Total allocation exceeds 95.00% (1,020,054,720 bytes) of heap memory\n",
      "Scaling row group sizes to 95.00% for 8 writers\n",
      "25/05/06 10:57:26 WARN MemoryManager: Total allocation exceeds 95.00% (1,020,054,720 bytes) of heap memory\n",
      "Scaling row group sizes to 95.00% for 8 writers\n",
      "25/05/06 10:58:20 WARN MemoryManager: Total allocation exceeds 95.00% (1,020,054,720 bytes) of heap memory\n",
      "Scaling row group sizes to 95.00% for 8 writers\n",
      "                                                                                \r"
     ]
    }
   ],
   "source": [
    "raw_paths = stage1(spark, postgres_props, MINIO_BUCKET_RAW, MINIO_BUCKET_PROCESSED)"
   ]
  },
  {
   "cell_type": "markdown",
   "id": "8e727a84",
   "metadata": {},
   "source": [
    "stage2: преобразование промежуточных таблиц events, distances, results в итоговые таблицы events, groups, participants, results и запись этих таблиц также в minio"
   ]
  },
  {
   "cell_type": "code",
   "execution_count": 4,
   "id": "d5b6e82a",
   "metadata": {},
   "outputs": [
    {
     "name": "stderr",
     "output_type": "stream",
     "text": [
      "25/05/06 11:02:22 WARN MemoryManager: Total allocation exceeds 95.00% (1,020,054,720 bytes) of heap memory\n",
      "Scaling row group sizes to 95.00% for 8 writers\n",
      "                                                                                \r"
     ]
    }
   ],
   "source": [
    "processed_dfs = stage2(spark, raw_paths, MINIO_BUCKET_PROCESSED)"
   ]
  },
  {
   "cell_type": "markdown",
   "id": "ad1792a6",
   "metadata": {},
   "source": [
    "stage3: запись итоговых таблиц в postgres"
   ]
  },
  {
   "cell_type": "code",
   "execution_count": 5,
   "id": "66216a84",
   "metadata": {},
   "outputs": [
    {
     "name": "stderr",
     "output_type": "stream",
     "text": [
      "                                                                                \r"
     ]
    }
   ],
   "source": [
    "stage3(spark, processed_dfs, postgres_props)"
   ]
  },
  {
   "cell_type": "code",
   "execution_count": null,
   "id": "75d77c87",
   "metadata": {},
   "outputs": [],
   "source": [
    "spark.stop()"
   ]
  }
 ],
 "metadata": {
  "kernelspec": {
   "display_name": "Python 3 (ipykernel)",
   "language": "python",
   "name": "python3"
  }
 },
 "nbformat": 4,
 "nbformat_minor": 5
}
